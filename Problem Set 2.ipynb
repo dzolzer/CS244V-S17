{
 "cells": [
  {
   "cell_type": "markdown",
   "metadata": {},
   "source": [
    "### Problem set 2\n",
    "\n",
    "This problem set consists of five short programs using what we have learned in the first four lectures.\n",
    "\n",
    "Download this notebook and complete the programs in the cells provided. Rename the notebook by adding your name to the title. \n",
    "\n",
    "Save the notebook and submit to Blackbaud."
   ]
  },
  {
   "cell_type": "markdown",
   "metadata": {},
   "source": [
    "##### Program 1\n",
    "\n",
    "**Count Words in a String** - Counts the number of individual words in a string."
   ]
  },
  {
   "cell_type": "code",
   "execution_count": null,
   "metadata": {
    "collapsed": true
   },
   "outputs": [],
   "source": []
  },
  {
   "cell_type": "markdown",
   "metadata": {},
   "source": [
    "##### Program 2\n",
    "**Reverse a String** - Enter a string and the program will reverse it and print it out."
   ]
  },
  {
   "cell_type": "code",
   "execution_count": null,
   "metadata": {
    "collapsed": true
   },
   "outputs": [],
   "source": []
  },
  {
   "cell_type": "markdown",
   "metadata": {},
   "source": [
    "##### Program 3\n",
    "Let's assume you are planning to use your Python skills to build a social networking service.\n",
    "\n",
    "You decide to host your application on servers running in the cloud. You pick a hosting provider that charges $0.51 per hour. You will launch your service using one server and want to know how much it will cost to operate per day and per month.\n",
    "\n",
    "Write a Python program that displays the answers to the following questions:\n",
    "\n",
    "How much does it cost to operate one server per day?\n",
    "\n",
    "How much does it cost to operate one server per month?"
   ]
  },
  {
   "cell_type": "code",
   "execution_count": null,
   "metadata": {
    "collapsed": true
   },
   "outputs": [],
   "source": []
  },
  {
   "cell_type": "markdown",
   "metadata": {},
   "source": [
    "##### Program 4\n",
    "\n",
    "Building on the previous example, let's also assume that you have saved $918 to fund your new adventure. You wonder how many days you can keep one server running before your money runs out. Of course, you hope your social network becomes popular and requires 20 servers to keep up with the demand. How much will it cost to operate at that point?\n",
    "\n",
    "Write a Python program that displays the answers to the following questions:\n",
    "\n",
    "How much does it cost to operate one server per day?\n",
    "\n",
    "How much does it cost to operate one server per month?\n",
    "\n",
    "How much does it cost to operate twenty servers per day?\n",
    "\n",
    "How much does it cost to operate twenty servers per month?\n",
    "\n",
    "How many days can I operate one server with $918?\n"
   ]
  },
  {
   "cell_type": "code",
   "execution_count": null,
   "metadata": {
    "collapsed": true
   },
   "outputs": [],
   "source": []
  },
  {
   "cell_type": "markdown",
   "metadata": {},
   "source": [
    "##### Good Luck and have fun!"
   ]
  }
 ],
 "metadata": {
  "anaconda-cloud": {},
  "kernelspec": {
   "display_name": "Python [Root]",
   "language": "python",
   "name": "Python [Root]"
  },
  "language_info": {
   "codemirror_mode": {
    "name": "ipython",
    "version": 3
   },
   "file_extension": ".py",
   "mimetype": "text/x-python",
   "name": "python",
   "nbconvert_exporter": "python",
   "pygments_lexer": "ipython3",
   "version": "3.5.2"
  }
 },
 "nbformat": 4,
 "nbformat_minor": 0
}
